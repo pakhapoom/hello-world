{
 "cells": [
  {
   "cell_type": "code",
   "execution_count": 1,
   "id": "4a35c8a3",
   "metadata": {},
   "outputs": [],
   "source": [
    "from typing import List, Tuple\n",
    "import numpy as np"
   ]
  },
  {
   "cell_type": "code",
   "execution_count": 2,
   "id": "f6386133",
   "metadata": {},
   "outputs": [],
   "source": [
    "def calculate_stats(\n",
    "    data: List[float]\n",
    ") -> Tuple[float, float]:\n",
    "    \"\"\"\n",
    "    Calculates the mean and sample variance of the data.\n",
    "    \n",
    "    Args:\n",
    "        data: a list of data which is in float.\n",
    "        \n",
    "    Returns:\n",
    "        mean: mean of the data.\n",
    "        variance: sample variance of the data.\n",
    "    \"\"\"\n",
    "    x = np.array(data)\n",
    "    mean = np.mean(x)\n",
    "    variance = np.var(x)\n",
    "    return (\n",
    "        mean,\n",
    "        variance\n",
    "    )"
   ]
  },
  {
   "cell_type": "code",
   "execution_count": 3,
   "id": "700b72a5",
   "metadata": {},
   "outputs": [
    {
     "name": "stdout",
     "output_type": "stream",
     "text": [
      "mean: 0.50\n",
      "variance: 0.07\n"
     ]
    }
   ],
   "source": [
    "data = np.random.rand(20)\n",
    "mean, variance = calculate_stats(data)\n",
    "print(f\"mean: {mean:.2f}\")\n",
    "print(f\"variance: {variance:.2f}\")"
   ]
  },
  {
   "cell_type": "code",
   "execution_count": null,
   "id": "37bb2d11",
   "metadata": {},
   "outputs": [],
   "source": []
  }
 ],
 "metadata": {
  "kernelspec": {
   "display_name": "Python 3 (ipykernel)",
   "language": "python",
   "name": "python3"
  },
  "language_info": {
   "codemirror_mode": {
    "name": "ipython",
    "version": 3
   },
   "file_extension": ".py",
   "mimetype": "text/x-python",
   "name": "python",
   "nbconvert_exporter": "python",
   "pygments_lexer": "ipython3",
   "version": "3.9.13"
  }
 },
 "nbformat": 4,
 "nbformat_minor": 5
}
